{
 "cells": [
  {
   "cell_type": "code",
   "execution_count": 6,
   "id": "bc8a3d36",
   "metadata": {},
   "outputs": [
    {
     "name": "stdout",
     "output_type": "stream",
     "text": [
      "<class 'pandas.core.frame.DataFrame'>\n",
      "Index: 24271 entries, 0 to 30696\n",
      "Data columns (total 25 columns):\n",
      " #   Column              Non-Null Count  Dtype  \n",
      "---  ------              --------------  -----  \n",
      " 0   action_type         24271 non-null  object \n",
      " 1   combined_shot_type  24271 non-null  object \n",
      " 2   game_event_id       24271 non-null  int64  \n",
      " 3   game_id             24271 non-null  int64  \n",
      " 4   lat                 24271 non-null  float64\n",
      " 5   loc_x               24271 non-null  int64  \n",
      " 6   loc_y               24271 non-null  int64  \n",
      " 7   lon                 24271 non-null  float64\n",
      " 8   minutes_remaining   24271 non-null  int64  \n",
      " 9   period              24271 non-null  int64  \n",
      " 10  playoffs            24271 non-null  int64  \n",
      " 11  season              24271 non-null  object \n",
      " 12  seconds_remaining   24271 non-null  int64  \n",
      " 13  shot_distance       24271 non-null  int64  \n",
      " 14  shot_made_flag      20285 non-null  float64\n",
      " 15  shot_type           24271 non-null  object \n",
      " 16  shot_zone_area      24271 non-null  object \n",
      " 17  shot_zone_basic     24271 non-null  object \n",
      " 18  shot_zone_range     24271 non-null  object \n",
      " 19  team_id             24271 non-null  int64  \n",
      " 20  team_name           24271 non-null  object \n",
      " 21  game_date           24271 non-null  object \n",
      " 22  matchup             24271 non-null  object \n",
      " 23  opponent            24271 non-null  object \n",
      " 24  shot_id             24271 non-null  int64  \n",
      "dtypes: float64(3), int64(11), object(11)\n",
      "memory usage: 4.8+ MB\n"
     ]
    }
   ],
   "source": [
    "import pandas as pd\n",
    "df = pd.read_parquet(\"../data/01_raw/dataset_kobe_dev.parquet\")\n",
    "df.info()"
   ]
  },
  {
   "cell_type": "code",
   "execution_count": 7,
   "id": "018146ea",
   "metadata": {},
   "outputs": [
    {
     "name": "stdout",
     "output_type": "stream",
     "text": [
      "<class 'pandas.core.frame.DataFrame'>\n",
      "Index: 6426 entries, 10 to 30695\n",
      "Data columns (total 25 columns):\n",
      " #   Column              Non-Null Count  Dtype  \n",
      "---  ------              --------------  -----  \n",
      " 0   action_type         6426 non-null   object \n",
      " 1   combined_shot_type  6426 non-null   object \n",
      " 2   game_event_id       6426 non-null   int64  \n",
      " 3   game_id             6426 non-null   int64  \n",
      " 4   lat                 6426 non-null   float64\n",
      " 5   loc_x               6426 non-null   int64  \n",
      " 6   loc_y               6426 non-null   int64  \n",
      " 7   lon                 6426 non-null   float64\n",
      " 8   minutes_remaining   6426 non-null   int64  \n",
      " 9   period              6426 non-null   int64  \n",
      " 10  playoffs            6426 non-null   int64  \n",
      " 11  season              6426 non-null   object \n",
      " 12  seconds_remaining   6426 non-null   int64  \n",
      " 13  shot_distance       6426 non-null   int64  \n",
      " 14  shot_made_flag      5412 non-null   float64\n",
      " 15  shot_type           6426 non-null   object \n",
      " 16  shot_zone_area      6426 non-null   object \n",
      " 17  shot_zone_basic     6426 non-null   object \n",
      " 18  shot_zone_range     6426 non-null   object \n",
      " 19  team_id             6426 non-null   int64  \n",
      " 20  team_name           6426 non-null   object \n",
      " 21  game_date           6426 non-null   object \n",
      " 22  matchup             6426 non-null   object \n",
      " 23  opponent            6426 non-null   object \n",
      " 24  shot_id             6426 non-null   int64  \n",
      "dtypes: float64(3), int64(11), object(11)\n",
      "memory usage: 1.3+ MB\n"
     ]
    }
   ],
   "source": [
    "df = pd.read_parquet(\"../data/01_raw/dataset_kobe_prod.parquet\")\n",
    "df.info()"
   ]
  }
 ],
 "metadata": {
  "kernelspec": {
   "display_name": "Python (kobe-pd)",
   "language": "python",
   "name": "kobe-pd"
  },
  "language_info": {
   "codemirror_mode": {
    "name": "ipython",
    "version": 3
   },
   "file_extension": ".py",
   "mimetype": "text/x-python",
   "name": "python",
   "nbconvert_exporter": "python",
   "pygments_lexer": "ipython3",
   "version": "3.11.12"
  }
 },
 "nbformat": 4,
 "nbformat_minor": 5
}
